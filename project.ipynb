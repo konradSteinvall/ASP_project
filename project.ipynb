{
 "cells": [
  {
   "cell_type": "markdown",
   "metadata": {},
   "source": [
    "# Ionization rates of Earth and Mars\n",
    "\n",
    "The ionization rate $q$ at altitude $z$ is, for monoenergetic electrons of energy $E_p$, given by\n",
    "\n",
    "\\begin{equation}\n",
    "q(z) = F\\frac{E_p}{\\Delta\\varepsilon_{\\text{ion}}}\\Lambda\\left(\\frac{s}{R}\\right)\\frac{\\rho(z)}{R(E_p)},\n",
    "\\end{equation}\n",
    "\n",
    "where $F$ is the electron flux [cm$^{-2}$s$^{-2}$], $\\Delta\\varepsilon_{\\text{ion}}\\approx35$ [eV] is the energy loss per electron-ion pair formation, $\\Lambda\\left(\\frac{s}{R}\\right)$ is the energy dissipation distribution function, $s$ is the atmospheric scattering depth, $R$ is the energy specific stopping range, and $\\rho$ is the atmosphere's total mass density.\n",
    "\n",
    "The given variables/functions are:\n",
    "$E_p$, $\\Delta\\varepsilon_{\\text{ion}}$, $F$, and $\\Lambda\\left(\\frac{s}{R}\\right)$.\n",
    "\n",
    "So what we need to do is:\n",
    "\n",
    "i) calculate $R$ [g/cm$^2$] from the empirical formula\n",
    "\\begin{equation}\n",
    "R(E)=4.30\\times10^{-7}+5.36\\times10^{-6}E^{1.67}\n",
    "\\end{equation}\n",
    "where $E$ is in [keV].\n",
    "\n",
    "ii) Calculate $\\rho(z)$ for the atmospheres based on atmospheric models.\n",
    "\n",
    "iii) Calculate the scattering depth $s(z)$\n",
    "\\begin{equation}\n",
    "s(z)=\\int_z^\\infty \\rho(z')dz'\n",
    "\\end{equation}\n",
    "\n",
    "iv) Use $s$ and $R$ to calculate $\\Lambda\\left(\\frac{s}{R}\\right)$\n",
    "\n",
    "v) Calculate $q(z)$\n",
    "\n",
    "vi) Plot $q(z)$ for different electron energies."
   ]
  },
  {
   "cell_type": "code",
   "execution_count": 1,
   "metadata": {},
   "outputs": [],
   "source": [
    "# Import needed packages\n",
    "import numpy as np\n",
    "import matplotlib\n",
    "import matplotlib.pyplot as plt\n"
   ]
  },
  {
   "cell_type": "markdown",
   "metadata": {},
   "source": [
    "Set up atmosphere class, should contain molecular composition and height."
   ]
  },
  {
   "cell_type": "code",
   "execution_count": null,
   "metadata": {},
   "outputs": [],
   "source": [
    "\n",
    "        \n",
    "    "
   ]
  },
  {
   "cell_type": "markdown",
   "metadata": {},
   "source": [
    "Load earth atmosphere"
   ]
  },
  {
   "cell_type": "code",
   "execution_count": 2,
   "metadata": {},
   "outputs": [],
   "source": [
    "height,O,N2,O2,He,Ar,H,N = np.genfromtxt(\"earth_data.txt\", unpack=True, skip_header=1)\n",
    "\n"
   ]
  },
  {
   "cell_type": "markdown",
   "metadata": {},
   "source": [
    "Generate martian atmosphere.\n",
    "Following the empirical fomula of Nier and McElroy (1977), we calculate the number density $n$ of atom/molecule species $s$ as\n",
    "\\begin{equation}\n",
    "n_s = 10^{b_s z + a_s}\n",
    "\\end{equation}"
   ]
  },
  {
   "cell_type": "code",
   "execution_count": 3,
   "metadata": {},
   "outputs": [],
   "source": [
    "#Since we solve the same equation for all species, we define the class:\n",
    "class Species(object):\n",
    "\n",
    "    def __init__(self,a,b,height):\n",
    "        self.a = a\n",
    "        self.b = b\n",
    "        self.z = height\n",
    "    \n",
    "    def calc_n(self):\n",
    "        self.n = 10**(self.b*self.z+self.a)\n",
    "        "
   ]
  },
  {
   "cell_type": "code",
   "execution_count": 12,
   "metadata": {},
   "outputs": [
    {
     "data": {
      "text/plain": [
       "<matplotlib.legend.Legend at 0x121afcc50>"
      ]
     },
     "execution_count": 12,
     "metadata": {},
     "output_type": "execute_result"
    },
    {
     "data": {
      "image/png": "[encoded data removed]",
      "text/plain": [
       "<Figure size 432x288 with 1 Axes>"
      ]
     },
     "metadata": {
      "needs_background": "light"
     },
     "output_type": "display_data"
    }
   ],
   "source": [
    "# Number density coefficients from Nier and McElroy (1977).\n",
    "b_CO2=-0.042696;\n",
    "b_O2=-0.033945;\n",
    "b_N2=-0.027514;\n",
    "b_CO=-0.027514;\n",
    "\n",
    "a_CO2=15.930;\n",
    "a_O2=12.074;\n",
    "a_N2=12.452;\n",
    "a_CO=11.984;\n",
    "z=np.linspace(100,350,501)\n",
    "\n",
    "mars_co2 = Species(a_CO2,b_CO2,z)\n",
    "mars_o2 = Species(a_O2,b_O2,z)\n",
    "mars_n2 = Species(a_N2,b_N2,z)\n",
    "mars_co = Species(a_CO,b_CO,z)\n",
    "\n",
    "mars_co2.calc_n()\n",
    "mars_o2.calc_n()\n",
    "mars_n2.calc_n()\n",
    "mars_co.calc_n()\n",
    "\n",
    "plt.figure() \n",
    "plt.semilogx(mars_co2.n,mars_co2.z)\n",
    "plt.semilogx(mars_o2.n,mars_co2.z)\n",
    "plt.semilogx(mars_n2.n,mars_co2.z)\n",
    "plt.semilogx(mars_co.n,mars_co2.z)\n",
    "plt.xlabel(\"n [cm$^{-3}$]\")\n",
    "plt.ylabel(\"Altitude [km]\")\n",
    "plt.legend([\"CO$_2$\",\"O$_2$\",\"N$_2$\",\"CO\"])"
   ]
  },
  {
   "cell_type": "markdown",
   "metadata": {},
   "source": [
    "Load energy dissipation distribution functions"
   ]
  },
  {
   "cell_type": "code",
   "execution_count": null,
   "metadata": {},
   "outputs": [],
   "source": [
    "uniSr,uniLambda=np.genfromtxt(\"Energy_deposition_unidirectional.txt\", unpack=True)\n",
    "# Plot to confirm that it works.\n",
    "plt.plot(uniSr,uniLambda)"
   ]
  },
  {
   "cell_type": "markdown",
   "metadata": {},
   "source": [
    "Calcluate atmospheric scattering depth, $s(z)$"
   ]
  },
  {
   "cell_type": "code",
   "execution_count": null,
   "metadata": {},
   "outputs": [],
   "source": []
  },
  {
   "cell_type": "code",
   "execution_count": null,
   "metadata": {},
   "outputs": [],
   "source": []
  },
  {
   "cell_type": "code",
   "execution_count": null,
   "metadata": {},
   "outputs": [],
   "source": []
  },
  {
   "cell_type": "code",
   "execution_count": null,
   "metadata": {},
   "outputs": [],
   "source": []
  }
 ],
 "metadata": {
  "kernelspec": {
   "display_name": "Python 3",
   "language": "python",
   "name": "python3"
  },
  "language_info": {
   "codemirror_mode": {
    "name": "ipython",
    "version": 3
   },
   "file_extension": ".py",
   "mimetype": "text/x-python",
   "name": "python",
   "nbconvert_exporter": "python",
   "pygments_lexer": "ipython3",
   "version": "3.7.1"
  }
 },
 "nbformat": 4,
 "nbformat_minor": 2
}
