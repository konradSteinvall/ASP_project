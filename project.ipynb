{
 "cells": [
  {
   "cell_type": "markdown",
   "metadata": {},
   "source": [
    "# Ionization rates of Earth and Mars\n",
    "\n",
    "The ionization rate $q$ at altitude $z$ is, for monoenergetic electrons of energy $E_p$, given by\n",
    "\n",
    "\\begin{equation}\n",
    "q(z) = F\\frac{E_p}{\\Delta\\varepsilon_{\\text{ion}}}\\Lambda\\left(\\frac{s}{R}\\right)\\frac{\\rho(z)}{R(E_p)},\n",
    "\\end{equation}\n",
    "\n",
    "where $F$ is the electron flux [cm$^{-2}$s$^{-2}$], $\\Delta\\varepsilon_{\\text{ion}}\\approx35$ [eV] is the energy loss per electron-ion pair formation, $\\Lambda\\left(\\frac{s}{R}\\right)$ is the energy dissipation distribution function, $s$ is the atmospheric scattering depth, $R$ is the energy specific stopping range, and $\\rho$ is the atmosphere's total mass density.\n",
    "\n",
    "The given variables/functions are:\n",
    "$E_p$, $\\Delta\\varepsilon_{\\text{ion}}$, $F$, and $\\Lambda\\left(\\frac{s}{R}\\right)$.\n",
    "\n",
    "So what we need to do is:\n",
    "\n",
    "i) calculate $R$ [g/cm$^2$] from the empirical formula\n",
    "\\begin{equation}\n",
    "R(E)=4.30\\times10^{-7}+5.36\\times10^{-6}E^{1.67}\n",
    "\\end{equation}\n",
    "where $E$ is in [keV].\n",
    "\n",
    "ii) Calculate $\\rho(z)$ for the atmospheres based on atmospheric models.\n",
    "\n",
    "iii) Calculate the scattering depth $s(z)$\n",
    "\\begin{equation}\n",
    "s(z)=\\int_z^\\infty \\rho(z')dz'\n",
    "\\end{equation}\n",
    "\n",
    "iv) Use $s$ and $R$ to calculate $\\Lambda\\left(\\frac{s}{R}\\right)$\n",
    "\n",
    "v) Calculate $q(z)$\n",
    "\n",
    "vi) Plot $q(z)$ for different electron energies."
   ]
  },
  {
   "cell_type": "code",
   "execution_count": 66,
   "metadata": {},
   "outputs": [],
   "source": [
    "# Import needed packages\n",
    "import numpy as np\n",
    "import matplotlib.pyplot as plt"
   ]
  },
  {
   "cell_type": "markdown",
   "metadata": {},
   "source": [
    "Set up atmosphere class, should contain molecular composition and height."
   ]
  },
  {
   "cell_type": "code",
   "execution_count": null,
   "metadata": {},
   "outputs": [],
   "source": [
    "\n",
    "        \n",
    "    "
   ]
  },
  {
   "cell_type": "markdown",
   "metadata": {},
   "source": [
    "Load earth atmosphere"
   ]
  },
  {
   "cell_type": "code",
   "execution_count": null,
   "metadata": {},
   "outputs": [],
   "source": []
  },
  {
   "cell_type": "markdown",
   "metadata": {},
   "source": [
    "Generate martian atmosphere from model"
   ]
  },
  {
   "cell_type": "code",
   "execution_count": null,
   "metadata": {},
   "outputs": [],
   "source": []
  },
  {
   "cell_type": "markdown",
   "metadata": {},
   "source": [
    "Load energy dissipation distribution functions"
   ]
  },
  {
   "cell_type": "code",
   "execution_count": null,
   "metadata": {},
   "outputs": [],
   "source": []
  },
  {
   "cell_type": "markdown",
   "metadata": {},
   "source": [
    "Calcluate atmospheric scattering depth, $s(z)$"
   ]
  },
  {
   "cell_type": "code",
   "execution_count": null,
   "metadata": {},
   "outputs": [],
   "source": []
  },
  {
   "cell_type": "code",
   "execution_count": null,
   "metadata": {},
   "outputs": [],
   "source": []
  },
  {
   "cell_type": "code",
   "execution_count": null,
   "metadata": {},
   "outputs": [],
   "source": []
  },
  {
   "cell_type": "code",
   "execution_count": null,
   "metadata": {},
   "outputs": [],
   "source": []
  }
 ],
 "metadata": {
  "kernelspec": {
   "display_name": "Python 3",
   "language": "python",
   "name": "python3"
  },
  "language_info": {
   "codemirror_mode": {
    "name": "ipython",
    "version": 3
   },
   "file_extension": ".py",
   "mimetype": "text/x-python",
   "name": "python",
   "nbconvert_exporter": "python",
   "pygments_lexer": "ipython3",
   "version": "3.7.1"
  }
 },
 "nbformat": 4,
 "nbformat_minor": 2
}
